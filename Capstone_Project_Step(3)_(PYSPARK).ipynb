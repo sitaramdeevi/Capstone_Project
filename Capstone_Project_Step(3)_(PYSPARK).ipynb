{
  "nbformat": 4,
  "nbformat_minor": 0,
  "metadata": {
    "colab": {
      "name": "Sitaram_Deevi_Capstone_Project_Step(3)_(PYSPARK).ipynb",
      "provenance": [],
      "collapsed_sections": []
    },
    "kernelspec": {
      "name": "python3",
      "display_name": "Python 3"
    },
    "language_info": {
      "name": "python"
    }
  },
  "cells": [
    {
      "cell_type": "markdown",
      "source": [
        "# Capstone_Project_On_Olympics_Data :"
      ],
      "metadata": {
        "id": "o4V4p2KyfkrV"
      }
    },
    {
      "cell_type": "markdown",
      "source": [
        "# Step 3 (PYSPARK) :"
      ],
      "metadata": {
        "id": "zX4NJ2zmfl8v"
      }
    },
    {
      "cell_type": "markdown",
      "source": [
        "# Introduction :\n",
        "\n",
        "  The bellow data is all about the details of olympix. which goiving us the details like name,age and country of the Athlet,on which year and which date and on which sport he won the medal, which type of medal was it like gold or silver or bronze."
      ],
      "metadata": {
        "id": "N6Jgqj_of0HE"
      }
    },
    {
      "cell_type": "markdown",
      "source": [
        "## Detailed Explanation of all columns is as follows :\n",
        "\n",
        "1)name          - Name of the participated Athlet.\n",
        "\n",
        "2)age           - age of the participated Athlet.\n",
        "\n",
        "3)country       - country of the participated Athlet.\n",
        "\n",
        "4)year          - On which year he won the medal.\n",
        "\n",
        "5)Date_Given    - On which date he won the medal.\n",
        "\n",
        "6)sports        - Name of the sport that he won the medal.\n",
        "\n",
        "7)gold_medal    - Number of gold medals won.\n",
        "\n",
        "8)silver_medal  - Number of silver medals won.\n",
        "\n",
        "9)brone_medal   - Number of Bronze medals won.\n",
        "\n",
        "10)total_medal  - Total number of medals won."
      ],
      "metadata": {
        "id": "VgbGAwzFf-Ma"
      }
    },
    {
      "cell_type": "markdown",
      "source": [
        "## Data_types of all columns is as follows :"
      ],
      "metadata": {
        "id": "RFBPcKRIgNfQ"
      }
    },
    {
      "cell_type": "markdown",
      "source": [
        "1) name         -  Stastically it was Nominal level data where Python reads it as a String.\n",
        "\n",
        "2) age          -  stastically it was Discrete data where Python reads it as a float.\n",
        "\n",
        "3) country      -  Stastically it was Nominal level data where Python reads it as a String.\n",
        "\n",
        "4) year         - stastically it was Discrete data where Python reads it as an integer.\n",
        "\n",
        "5) Date_Given   - It can be boath Discrete and continuous where as pythos reads it as an Object.\n",
        "\n",
        "6) sports       -  Stastically it was Nominal level data where Python reads it as a String.\n",
        "\n",
        "7) Gold_medal   - stastically it was Discrete data where Python reads it as an integer.\n",
        "\n",
        "\n",
        "8) Silver_medal - stastically it was Discrete data where Python reads it as an integer.\n",
        "\n",
        "9) Brone_medal  - stastically it was Discrete data where Python reads it as an integer.\n",
        "\n",
        "10)Total_medal  - stastically it was Discrete data where Python reads it as an integer."
      ],
      "metadata": {
        "id": "6PuvzeYZgOnZ"
      }
    },
    {
      "cell_type": "code",
      "source": [
        "pip install pyspark # Installing pyspark "
      ],
      "metadata": {
        "id": "Y_DpTQJ_sJa_",
        "colab": {
          "base_uri": "https://localhost:8080/"
        },
        "outputId": "0f8c99ea-9684-4f25-853d-4e1f9d0845b5"
      },
      "execution_count": 1,
      "outputs": [
        {
          "output_type": "stream",
          "name": "stdout",
          "text": [
            "Looking in indexes: https://pypi.org/simple, https://us-python.pkg.dev/colab-wheels/public/simple/\n",
            "Collecting pyspark\n",
            "  Downloading pyspark-3.3.0.tar.gz (281.3 MB)\n",
            "\u001b[K     |████████████████████████████████| 281.3 MB 45 kB/s \n",
            "\u001b[33mWARNING: Retrying (Retry(total=4, connect=None, read=None, redirect=None, status=None)) after connection broken by 'ProtocolError('Connection aborted.', ConnectionResetError(104, 'Connection reset by peer'))': /simple/py4j/\u001b[0m\n",
            "\u001b[?25hCollecting py4j==0.10.9.5\n",
            "  Downloading py4j-0.10.9.5-py2.py3-none-any.whl (199 kB)\n",
            "\u001b[K     |████████████████████████████████| 199 kB 45.1 MB/s \n",
            "\u001b[?25hBuilding wheels for collected packages: pyspark\n",
            "  Building wheel for pyspark (setup.py) ... \u001b[?25l\u001b[?25hdone\n",
            "  Created wheel for pyspark: filename=pyspark-3.3.0-py2.py3-none-any.whl size=281764026 sha256=fea7bfd791039af87e0d6d5befe0fd62b03a758457772f42ede25fc17d5ddf27\n",
            "  Stored in directory: /root/.cache/pip/wheels/7a/8e/1b/f73a52650d2e5f337708d9f6a1750d451a7349a867f928b885\n",
            "Successfully built pyspark\n",
            "Installing collected packages: py4j, pyspark\n",
            "Successfully installed py4j-0.10.9.5 pyspark-3.3.0\n"
          ]
        }
      ]
    },
    {
      "cell_type": "code",
      "source": [
        "#Initializing PySpark and importing the other required libraries\n",
        "from pyspark import SparkContext, SparkConf\n",
        "from pyspark.sql import SparkSession\n",
        "from pyspark.sql import SQLContext\n",
        "import pyspark.sql.functions as f\n",
        "\n",
        "#Spark Config\n",
        "conf = SparkConf().setAppName(\"sample_app\")\n",
        "sc = SparkContext(conf=conf)\n",
        "spark = SparkSession.builder.appName('Test').getOrCreate()\n",
        "sqlContext = SQLContext(sc)"
      ],
      "metadata": {
        "colab": {
          "base_uri": "https://localhost:8080/"
        },
        "id": "aeEkn1ZSHRGy",
        "outputId": "3e0b86fe-d12d-443b-992b-b29827d640dd"
      },
      "execution_count": 2,
      "outputs": [
        {
          "output_type": "stream",
          "name": "stderr",
          "text": [
            "/usr/local/lib/python3.7/dist-packages/pyspark/sql/context.py:114: FutureWarning: Deprecated in 3.0.0. Use SparkSession.builder.getOrCreate() instead.\n",
            "  FutureWarning,\n"
          ]
        }
      ]
    },
    {
      "cell_type": "code",
      "source": [
        "# Reading the csv file as a pyspark dataframe for data cleaning \n",
        "olympix_data = spark.read.format(\"csv\").option(\"header\", \"true\").option(\"inferSchema\",\"true\").load(\"/content/olympix_data_organized_with_header (1) (1).csv\")  \n",
        "olympix_data.show(5) # calling the Action"
      ],
      "metadata": {
        "colab": {
          "base_uri": "https://localhost:8080/"
        },
        "id": "2f7Dym69kXRb",
        "outputId": "8548a705-fce2-472c-eab8-f12ead3c6d35"
      },
      "execution_count": 3,
      "outputs": [
        {
          "output_type": "stream",
          "name": "stdout",
          "text": [
            "+----------------+---+-------------+----+----------+----------+----------+------------+-----------+-----------+\n",
            "|            name|age|      country|year|Date_Given|    sports|gold_medal|silver_medal|brone_medal|total_medal|\n",
            "+----------------+---+-------------+----+----------+----------+----------+------------+-----------+-----------+\n",
            "|  Michael Phelps| 23|United States|2008| 8/24/2008|  Swimming|         8|           0|          0|          8|\n",
            "|  Michael Phelps| 19|United States|2004| 8/29/2004|  Swimming|         6|           0|          2|          8|\n",
            "|  Michael Phelps| 27|United States|2012|08-12-2012|  Swimming|         4|           2|          0|          6|\n",
            "|Natalie Coughlin| 25|United States|2008| 8/24/2008|  Swimming|         1|           2|          3|          6|\n",
            "|   Aleksey Nemov| 24|       Russia|2000|10-01-2000|Gymnastics|         2|           1|          3|          6|\n",
            "+----------------+---+-------------+----+----------+----------+----------+------------+-----------+-----------+\n",
            "only showing top 5 rows\n",
            "\n"
          ]
        }
      ]
    },
    {
      "cell_type": "markdown",
      "source": [
        "# Data Cleaning :"
      ],
      "metadata": {
        "id": "xAHVNGezl1oh"
      }
    },
    {
      "cell_type": "markdown",
      "source": [
        "## Dealing with missing values :"
      ],
      "metadata": {
        "id": "5M1AEYkZp3gJ"
      }
    },
    {
      "cell_type": "code",
      "source": [
        "# checking the null values in the data frame\n",
        "olympix_data.filter(\"name IS NULL AND age IS NULL AND country IS NULL AND year IS NULL AND Date_Given IS NULL AND sports IS NULL AND gold_medal IS NULL AND silver_medal IS NULL AND brone_medal IS NULL AND total_medal IS NULL\").show()\n",
        "# Here we can see there no any null values in entair all columns so we need to check columns individually"
      ],
      "metadata": {
        "colab": {
          "base_uri": "https://localhost:8080/"
        },
        "id": "C6aoJOexkBNs",
        "outputId": "04465a4b-1fe5-40ef-b9db-526d10c9edcf"
      },
      "execution_count": 4,
      "outputs": [
        {
          "output_type": "stream",
          "name": "stdout",
          "text": [
            "+----+---+-------+----+----------+------+----------+------------+-----------+-----------+\n",
            "|name|age|country|year|Date_Given|sports|gold_medal|silver_medal|brone_medal|total_medal|\n",
            "+----+---+-------+----+----------+------+----------+------------+-----------+-----------+\n",
            "+----+---+-------+----+----------+------+----------+------------+-----------+-----------+\n",
            "\n"
          ]
        }
      ]
    },
    {
      "cell_type": "code",
      "source": [
        "# Checking the null values in particular columns\n",
        "olympix_data.filter(\"name IS NULL AND age IS NULL\").show()\n",
        "# BY checking one by one we got total of 10 null values 5 in name column and 5 in age column"
      ],
      "metadata": {
        "colab": {
          "base_uri": "https://localhost:8080/"
        },
        "id": "EGZeOi4UmEW7",
        "outputId": "9adbe4d9-3369-4c4a-e6b1-c413292a93cb"
      },
      "execution_count": 5,
      "outputs": [
        {
          "output_type": "stream",
          "name": "stdout",
          "text": [
            "+----+----+---------+----+----------+----------+----------+------------+-----------+-----------+\n",
            "|name| age|  country|year|Date_Given|    sports|gold_medal|silver_medal|brone_medal|total_medal|\n",
            "+----+----+---------+----+----------+----------+----------+------------+-----------+-----------+\n",
            "|null|null|   Brazil|2012|08-12-2012|Volleyball|         0|           1|          0|          1|\n",
            "|null|null|   Brazil|2012|08-12-2012|Volleyball|         0|           1|          0|          1|\n",
            "|null|null|   Brazil|2012|08-12-2012|Volleyball|         0|           1|          0|          1|\n",
            "|null|null|Argentina|2012|08-12-2012|    Hockey|         0|           1|          0|          1|\n",
            "|null|null|Argentina|2012|08-12-2012|    Hockey|         0|           1|          0|          1|\n",
            "+----+----+---------+----+----------+----------+----------+------------+-----------+-----------+\n",
            "\n"
          ]
        }
      ]
    },
    {
      "cell_type": "code",
      "source": [
        "# Dropping those 5 rows which had null values in name and age  column\n",
        "olympix_data = olympix_data.na.drop(subset = ['name','age'])"
      ],
      "metadata": {
        "id": "Mj8c64SznJF5"
      },
      "execution_count": 6,
      "outputs": []
    },
    {
      "cell_type": "code",
      "source": [
        "# Checking whether the null values are dropped or not \n",
        "olympix_data.filter(\"name IS NULL AND age IS NULL\").show()"
      ],
      "metadata": {
        "colab": {
          "base_uri": "https://localhost:8080/"
        },
        "id": "JRrswo2xqcGa",
        "outputId": "3baf3a7a-2e9e-4836-faf8-c6ce6d42bcfa"
      },
      "execution_count": 7,
      "outputs": [
        {
          "output_type": "stream",
          "name": "stdout",
          "text": [
            "+----+---+-------+----+----------+------+----------+------------+-----------+-----------+\n",
            "|name|age|country|year|Date_Given|sports|gold_medal|silver_medal|brone_medal|total_medal|\n",
            "+----+---+-------+----+----------+------+----------+------------+-----------+-----------+\n",
            "+----+---+-------+----+----------+------+----------+------------+-----------+-----------+\n",
            "\n"
          ]
        }
      ]
    },
    {
      "cell_type": "markdown",
      "source": [
        "## Explanation :\n",
        "###Here we can clearly see that there no null values present because we had dropped the null valued rows successfully."
      ],
      "metadata": {
        "id": "Vv-VXrb-qtiW"
      }
    },
    {
      "cell_type": "markdown",
      "source": [
        "## Dealing with duplicated values :"
      ],
      "metadata": {
        "id": "L-b6zXkbqZe2"
      }
    },
    {
      "cell_type": "code",
      "source": [
        "# dropping the duplicated values (if any) present in the data set by using dropDuplicated() function.\n",
        "olympix_data = olympix_data.dropDuplicates()"
      ],
      "metadata": {
        "id": "MzTGExDysSTr"
      },
      "execution_count": 8,
      "outputs": []
    },
    {
      "cell_type": "markdown",
      "source": [
        "### If we calculate the duplicated values based on column we get lot of duplicated values But we con't drop them by column wise because in the above data set in the name column there is a possibility that the same person can participate next year's competition. \n",
        "### where as in the age column because of age criteria the age of the Athlets maybe match so there is a chance of duplication \n",
        "### soo here we cont drop the duplicated values based on columns because it dosen't make sense. "
      ],
      "metadata": {
        "id": "I0ETjF_Vqttb"
      }
    },
    {
      "cell_type": "code",
      "source": [
        "# saving the cleaned data set \n",
        "olympix_data.write.option(\"header\",True).csv(\"olympix_cleaned_data\")"
      ],
      "metadata": {
        "id": "hE2LfuvfubeU"
      },
      "execution_count": 9,
      "outputs": []
    },
    {
      "cell_type": "markdown",
      "source": [
        "# Attribute Analysis :"
      ],
      "metadata": {
        "id": "ja-p5GDhrUD_"
      }
    },
    {
      "cell_type": "markdown",
      "source": [
        "## 1)Write PySpark code to read the olympix_data.csv file"
      ],
      "metadata": {
        "id": "TZSFPoZwrgFX"
      }
    },
    {
      "cell_type": "code",
      "source": [
        "# Reading the csv file which saved after data cleaning process as pyspark DataFrame\n",
        "olympix_data_spark = spark.read.format(\"csv\").option(\"header\", \"true\").option(\"inferSchema\",\"true\").load(\"/content/olympix_cleaned_data\")  \n",
        "olympix_data_spark.show() # calling the Action"
      ],
      "metadata": {
        "id": "G9DJUgsvrlky",
        "colab": {
          "base_uri": "https://localhost:8080/"
        },
        "outputId": "ea32cc8a-e2fd-449c-ed3e-5bda8750e601"
      },
      "execution_count": 10,
      "outputs": [
        {
          "output_type": "stream",
          "name": "stdout",
          "text": [
            "+--------------------+---+--------------------+----+----------+--------------------+----------+------------+-----------+-----------+\n",
            "|                name|age|             country|year|Date_Given|              sports|gold_medal|silver_medal|brone_medal|total_medal|\n",
            "+--------------------+---+--------------------+----+----------+--------------------+----------+------------+-----------+-----------+\n",
            "|           Wang Meng| 20|               China|2006| 2/26/2006|Short-Track Speed...|         1|           1|          1|          3|\n",
            "|          Rita König| 23|             Germany|2000|10-01-2000|             Fencing|         0|           1|          1|          2|\n",
            "|       Botond Storcz| 25|             Hungary|2000|10-01-2000|            Canoeing|         2|           0|          0|          2|\n",
            "|Ole Einar Bjørndalen| 36|              Norway|2010| 2/28/2010|            Biathlon|         1|           1|          0|          2|\n",
            "|       Roser Tarragó| 19|               Spain|2012|08-12-2012|           Waterpolo|         0|           1|          0|          1|\n",
            "|        Mieke Cabout| 22|         Netherlands|2008| 8/24/2008|           Waterpolo|         1|           0|          0|          1|\n",
            "|          Vasa Mijic| 27|Serbia and Monten...|2000|10-01-2000|          Volleyball|         1|           0|          0|          1|\n",
            "|   Huang Chih-Hsiung| 23|      Chinese Taipei|2000|10-01-2000|           Taekwondo|         0|           0|          1|          1|\n",
            "|              Luo Xi| 24|               China|2012|08-12-2012|Synchronized Swim...|         0|           1|          0|          1|\n",
            "|     Yevgeny Lagunov| 22|              Russia|2008| 8/24/2008|            Swimming|         0|           1|          0|          1|\n",
            "|        Ayumi Karino| 23|               Japan|2008| 8/24/2008|            Softball|         1|           0|          0|          1|\n",
            "|       Crystl Bustos| 23|       United States|2000|10-01-2000|            Softball|         1|           0|          0|          1|\n",
            "|       Jessica Rossi| 20|               Italy|2012|08-12-2012|            Shooting|         1|           0|          0|          1|\n",
            "|     Nino Salukvadze| 39|             Georgia|2008| 8/24/2008|            Shooting|         0|           0|          1|          1|\n",
            "|     Merel Witteveen| 23|         Netherlands|2008| 8/24/2008|             Sailing|         0|           1|          0|          1|\n",
            "|      Simon Hiscocks| 27|       Great Britain|2000|10-01-2000|             Sailing|         0|           1|          0|          1|\n",
            "|Georgios Vazagkas...| 26|             Georgia|2000|10-01-2000|                Judo|         0|           0|          1|          1|\n",
            "|        Saija Sirviö| 27|             Finland|2010| 2/28/2010|          Ice Hockey|         0|           0|          1|          1|\n",
            "|  Isabelle Chartrand| 23|              Canada|2002| 2/24/2002|          Ice Hockey|         1|           0|          0|          1|\n",
            "|         Beth Storry| 34|       Great Britain|2012|08-12-2012|              Hockey|         0|           0|          1|          1|\n",
            "+--------------------+---+--------------------+----+----------+--------------------+----------+------------+-----------+-----------+\n",
            "only showing top 20 rows\n",
            "\n"
          ]
        }
      ]
    },
    {
      "cell_type": "markdown",
      "source": [
        "## 2) Write PySpark code to print the Olympic Sports/games in the dataset."
      ],
      "metadata": {
        "id": "FZJ4KXGqKxe1"
      }
    },
    {
      "cell_type": "code",
      "source": [
        "# code to print only the sports column in the data set without repetition by using distinct() function.\n",
        "sports_col = olympix_data_spark.select('sports').distinct()\n",
        "sports_col.show() # calling the Action"
      ],
      "metadata": {
        "colab": {
          "base_uri": "https://localhost:8080/"
        },
        "id": "VygBKJyNK0Bq",
        "outputId": "f728650a-d0ad-4367-fc7e-be79aefd955b"
      },
      "execution_count": 11,
      "outputs": [
        {
          "output_type": "stream",
          "name": "stdout",
          "text": [
            "+--------------------+\n",
            "|              sports|\n",
            "+--------------------+\n",
            "|          Gymnastics|\n",
            "|              Tennis|\n",
            "|              Boxing|\n",
            "|Short-Track Speed...|\n",
            "|          Ice Hockey|\n",
            "|              Rowing|\n",
            "|                Judo|\n",
            "|            Softball|\n",
            "|             Sailing|\n",
            "|            Swimming|\n",
            "|       Alpine Skiing|\n",
            "|          Basketball|\n",
            "|            Handball|\n",
            "| Rhythmic Gymnastics|\n",
            "|            Biathlon|\n",
            "|           Triathlon|\n",
            "|           Badminton|\n",
            "|           Athletics|\n",
            "|      Figure Skating|\n",
            "|    Beach Volleyball|\n",
            "+--------------------+\n",
            "only showing top 20 rows\n",
            "\n"
          ]
        }
      ]
    },
    {
      "cell_type": "markdown",
      "source": [
        "## 3) Write PySpark code to plot the total number of medals in  each Olympic Sport/game"
      ],
      "metadata": {
        "id": "fZt8pWTCLZ0a"
      }
    },
    {
      "cell_type": "code",
      "source": [
        "# calculating the total number of medals in each olympic sport\n",
        "medals_by_each_sport_spark = olympix_data_spark.groupBy(\"sports\").sum(\"total_medal\")\n",
        "medals_by_each_sport_spark.show() # calling the Action"
      ],
      "metadata": {
        "id": "qG4xETGnLgyJ",
        "colab": {
          "base_uri": "https://localhost:8080/"
        },
        "outputId": "cee26398-4689-4fc8-a54f-4a311ff484cf"
      },
      "execution_count": 14,
      "outputs": [
        {
          "output_type": "stream",
          "name": "stdout",
          "text": [
            "+--------------------+----------------+\n",
            "|              sports|sum(total_medal)|\n",
            "+--------------------+----------------+\n",
            "|          Gymnastics|             282|\n",
            "|              Tennis|              78|\n",
            "|              Boxing|             188|\n",
            "|Short-Track Speed...|             138|\n",
            "|          Ice Hockey|             384|\n",
            "|              Rowing|             576|\n",
            "|                Judo|             224|\n",
            "|            Softball|             134|\n",
            "|             Sailing|             210|\n",
            "|            Swimming|             765|\n",
            "|       Alpine Skiing|              90|\n",
            "|          Basketball|             287|\n",
            "|            Handball|             351|\n",
            "| Rhythmic Gymnastics|              84|\n",
            "|            Biathlon|             138|\n",
            "|           Triathlon|              24|\n",
            "|           Badminton|              96|\n",
            "|           Athletics|             753|\n",
            "|      Figure Skating|              54|\n",
            "|    Beach Volleyball|              48|\n",
            "+--------------------+----------------+\n",
            "only showing top 20 rows\n",
            "\n"
          ]
        }
      ]
    },
    {
      "cell_type": "code",
      "source": [
        "# converting the pyspark dataframe to pandas dataframe to plot the appropriate graph for visualized representation\n",
        "medals_by_each_sport_pandas = medals_by_each_sport_spark.toPandas()\n",
        "medals_by_each_sport_pandas # calling the function"
      ],
      "metadata": {
        "colab": {
          "base_uri": "https://localhost:8080/",
          "height": 1000
        },
        "id": "cV9g9EkGYNaN",
        "outputId": "de8ff883-b319-4f97-aedf-3ba565a3a444"
      },
      "execution_count": 16,
      "outputs": [
        {
          "output_type": "execute_result",
          "data": {
            "text/plain": [
              "                       sports  sum(total_medal)\n",
              "0                  Gymnastics               282\n",
              "1                      Tennis                78\n",
              "2                      Boxing               188\n",
              "3   Short-Track Speed Skating               138\n",
              "4                  Ice Hockey               384\n",
              "5                      Rowing               576\n",
              "6                        Judo               224\n",
              "7                    Softball               134\n",
              "8                     Sailing               210\n",
              "9                    Swimming               765\n",
              "10              Alpine Skiing                90\n",
              "11                 Basketball               287\n",
              "12                   Handball               351\n",
              "13        Rhythmic Gymnastics                84\n",
              "14                   Biathlon               138\n",
              "15                  Triathlon                24\n",
              "16                  Badminton                96\n",
              "17                  Athletics               753\n",
              "18             Figure Skating                54\n",
              "19           Beach Volleyball                48\n",
              "20                 Equestrian               182\n",
              "21                   Shooting               192\n",
              "22                     Diving               144\n",
              "23                   Skeleton                18\n",
              "24                Ski Jumping                54\n",
              "25            Nordic Combined                54\n",
              "26                  Wrestling               245\n",
              "27              Speed Skating               140\n",
              "28               Table Tennis                84\n",
              "29                  Taekwondo               112\n",
              "30                   Canoeing               333\n",
              "31              Weightlifting               180\n",
              "32                  Waterpolo               306\n",
              "33                   Baseball               216\n",
              "34          Modern Pentathlon                24\n",
              "35               Snowboarding                48\n",
              "36                  Bobsleigh                72\n",
              "37                    Cycling               306\n",
              "38       Cross Country Skiing               174\n",
              "39                 Volleyball               278\n",
              "40                    Archery                96\n",
              "41      Synchronized Swimming               129\n",
              "42                    Curling                82\n",
              "43                    Fencing               256\n",
              "44                     Hockey               386\n",
              "45           Freestyle Skiing                42\n",
              "46                   Football               407\n",
              "47                       Luge                36\n",
              "48                 Trampoline                24"
            ],
            "text/html": [
              "\n",
              "  <div id=\"df-5654b809-0079-4ee4-ade9-760b29edf3fb\">\n",
              "    <div class=\"colab-df-container\">\n",
              "      <div>\n",
              "<style scoped>\n",
              "    .dataframe tbody tr th:only-of-type {\n",
              "        vertical-align: middle;\n",
              "    }\n",
              "\n",
              "    .dataframe tbody tr th {\n",
              "        vertical-align: top;\n",
              "    }\n",
              "\n",
              "    .dataframe thead th {\n",
              "        text-align: right;\n",
              "    }\n",
              "</style>\n",
              "<table border=\"1\" class=\"dataframe\">\n",
              "  <thead>\n",
              "    <tr style=\"text-align: right;\">\n",
              "      <th></th>\n",
              "      <th>sports</th>\n",
              "      <th>sum(total_medal)</th>\n",
              "    </tr>\n",
              "  </thead>\n",
              "  <tbody>\n",
              "    <tr>\n",
              "      <th>0</th>\n",
              "      <td>Gymnastics</td>\n",
              "      <td>282</td>\n",
              "    </tr>\n",
              "    <tr>\n",
              "      <th>1</th>\n",
              "      <td>Tennis</td>\n",
              "      <td>78</td>\n",
              "    </tr>\n",
              "    <tr>\n",
              "      <th>2</th>\n",
              "      <td>Boxing</td>\n",
              "      <td>188</td>\n",
              "    </tr>\n",
              "    <tr>\n",
              "      <th>3</th>\n",
              "      <td>Short-Track Speed Skating</td>\n",
              "      <td>138</td>\n",
              "    </tr>\n",
              "    <tr>\n",
              "      <th>4</th>\n",
              "      <td>Ice Hockey</td>\n",
              "      <td>384</td>\n",
              "    </tr>\n",
              "    <tr>\n",
              "      <th>5</th>\n",
              "      <td>Rowing</td>\n",
              "      <td>576</td>\n",
              "    </tr>\n",
              "    <tr>\n",
              "      <th>6</th>\n",
              "      <td>Judo</td>\n",
              "      <td>224</td>\n",
              "    </tr>\n",
              "    <tr>\n",
              "      <th>7</th>\n",
              "      <td>Softball</td>\n",
              "      <td>134</td>\n",
              "    </tr>\n",
              "    <tr>\n",
              "      <th>8</th>\n",
              "      <td>Sailing</td>\n",
              "      <td>210</td>\n",
              "    </tr>\n",
              "    <tr>\n",
              "      <th>9</th>\n",
              "      <td>Swimming</td>\n",
              "      <td>765</td>\n",
              "    </tr>\n",
              "    <tr>\n",
              "      <th>10</th>\n",
              "      <td>Alpine Skiing</td>\n",
              "      <td>90</td>\n",
              "    </tr>\n",
              "    <tr>\n",
              "      <th>11</th>\n",
              "      <td>Basketball</td>\n",
              "      <td>287</td>\n",
              "    </tr>\n",
              "    <tr>\n",
              "      <th>12</th>\n",
              "      <td>Handball</td>\n",
              "      <td>351</td>\n",
              "    </tr>\n",
              "    <tr>\n",
              "      <th>13</th>\n",
              "      <td>Rhythmic Gymnastics</td>\n",
              "      <td>84</td>\n",
              "    </tr>\n",
              "    <tr>\n",
              "      <th>14</th>\n",
              "      <td>Biathlon</td>\n",
              "      <td>138</td>\n",
              "    </tr>\n",
              "    <tr>\n",
              "      <th>15</th>\n",
              "      <td>Triathlon</td>\n",
              "      <td>24</td>\n",
              "    </tr>\n",
              "    <tr>\n",
              "      <th>16</th>\n",
              "      <td>Badminton</td>\n",
              "      <td>96</td>\n",
              "    </tr>\n",
              "    <tr>\n",
              "      <th>17</th>\n",
              "      <td>Athletics</td>\n",
              "      <td>753</td>\n",
              "    </tr>\n",
              "    <tr>\n",
              "      <th>18</th>\n",
              "      <td>Figure Skating</td>\n",
              "      <td>54</td>\n",
              "    </tr>\n",
              "    <tr>\n",
              "      <th>19</th>\n",
              "      <td>Beach Volleyball</td>\n",
              "      <td>48</td>\n",
              "    </tr>\n",
              "    <tr>\n",
              "      <th>20</th>\n",
              "      <td>Equestrian</td>\n",
              "      <td>182</td>\n",
              "    </tr>\n",
              "    <tr>\n",
              "      <th>21</th>\n",
              "      <td>Shooting</td>\n",
              "      <td>192</td>\n",
              "    </tr>\n",
              "    <tr>\n",
              "      <th>22</th>\n",
              "      <td>Diving</td>\n",
              "      <td>144</td>\n",
              "    </tr>\n",
              "    <tr>\n",
              "      <th>23</th>\n",
              "      <td>Skeleton</td>\n",
              "      <td>18</td>\n",
              "    </tr>\n",
              "    <tr>\n",
              "      <th>24</th>\n",
              "      <td>Ski Jumping</td>\n",
              "      <td>54</td>\n",
              "    </tr>\n",
              "    <tr>\n",
              "      <th>25</th>\n",
              "      <td>Nordic Combined</td>\n",
              "      <td>54</td>\n",
              "    </tr>\n",
              "    <tr>\n",
              "      <th>26</th>\n",
              "      <td>Wrestling</td>\n",
              "      <td>245</td>\n",
              "    </tr>\n",
              "    <tr>\n",
              "      <th>27</th>\n",
              "      <td>Speed Skating</td>\n",
              "      <td>140</td>\n",
              "    </tr>\n",
              "    <tr>\n",
              "      <th>28</th>\n",
              "      <td>Table Tennis</td>\n",
              "      <td>84</td>\n",
              "    </tr>\n",
              "    <tr>\n",
              "      <th>29</th>\n",
              "      <td>Taekwondo</td>\n",
              "      <td>112</td>\n",
              "    </tr>\n",
              "    <tr>\n",
              "      <th>30</th>\n",
              "      <td>Canoeing</td>\n",
              "      <td>333</td>\n",
              "    </tr>\n",
              "    <tr>\n",
              "      <th>31</th>\n",
              "      <td>Weightlifting</td>\n",
              "      <td>180</td>\n",
              "    </tr>\n",
              "    <tr>\n",
              "      <th>32</th>\n",
              "      <td>Waterpolo</td>\n",
              "      <td>306</td>\n",
              "    </tr>\n",
              "    <tr>\n",
              "      <th>33</th>\n",
              "      <td>Baseball</td>\n",
              "      <td>216</td>\n",
              "    </tr>\n",
              "    <tr>\n",
              "      <th>34</th>\n",
              "      <td>Modern Pentathlon</td>\n",
              "      <td>24</td>\n",
              "    </tr>\n",
              "    <tr>\n",
              "      <th>35</th>\n",
              "      <td>Snowboarding</td>\n",
              "      <td>48</td>\n",
              "    </tr>\n",
              "    <tr>\n",
              "      <th>36</th>\n",
              "      <td>Bobsleigh</td>\n",
              "      <td>72</td>\n",
              "    </tr>\n",
              "    <tr>\n",
              "      <th>37</th>\n",
              "      <td>Cycling</td>\n",
              "      <td>306</td>\n",
              "    </tr>\n",
              "    <tr>\n",
              "      <th>38</th>\n",
              "      <td>Cross Country Skiing</td>\n",
              "      <td>174</td>\n",
              "    </tr>\n",
              "    <tr>\n",
              "      <th>39</th>\n",
              "      <td>Volleyball</td>\n",
              "      <td>278</td>\n",
              "    </tr>\n",
              "    <tr>\n",
              "      <th>40</th>\n",
              "      <td>Archery</td>\n",
              "      <td>96</td>\n",
              "    </tr>\n",
              "    <tr>\n",
              "      <th>41</th>\n",
              "      <td>Synchronized Swimming</td>\n",
              "      <td>129</td>\n",
              "    </tr>\n",
              "    <tr>\n",
              "      <th>42</th>\n",
              "      <td>Curling</td>\n",
              "      <td>82</td>\n",
              "    </tr>\n",
              "    <tr>\n",
              "      <th>43</th>\n",
              "      <td>Fencing</td>\n",
              "      <td>256</td>\n",
              "    </tr>\n",
              "    <tr>\n",
              "      <th>44</th>\n",
              "      <td>Hockey</td>\n",
              "      <td>386</td>\n",
              "    </tr>\n",
              "    <tr>\n",
              "      <th>45</th>\n",
              "      <td>Freestyle Skiing</td>\n",
              "      <td>42</td>\n",
              "    </tr>\n",
              "    <tr>\n",
              "      <th>46</th>\n",
              "      <td>Football</td>\n",
              "      <td>407</td>\n",
              "    </tr>\n",
              "    <tr>\n",
              "      <th>47</th>\n",
              "      <td>Luge</td>\n",
              "      <td>36</td>\n",
              "    </tr>\n",
              "    <tr>\n",
              "      <th>48</th>\n",
              "      <td>Trampoline</td>\n",
              "      <td>24</td>\n",
              "    </tr>\n",
              "  </tbody>\n",
              "</table>\n",
              "</div>\n",
              "      <button class=\"colab-df-convert\" onclick=\"convertToInteractive('df-5654b809-0079-4ee4-ade9-760b29edf3fb')\"\n",
              "              title=\"Convert this dataframe to an interactive table.\"\n",
              "              style=\"display:none;\">\n",
              "        \n",
              "  <svg xmlns=\"http://www.w3.org/2000/svg\" height=\"24px\"viewBox=\"0 0 24 24\"\n",
              "       width=\"24px\">\n",
              "    <path d=\"M0 0h24v24H0V0z\" fill=\"none\"/>\n",
              "    <path d=\"M18.56 5.44l.94 2.06.94-2.06 2.06-.94-2.06-.94-.94-2.06-.94 2.06-2.06.94zm-11 1L8.5 8.5l.94-2.06 2.06-.94-2.06-.94L8.5 2.5l-.94 2.06-2.06.94zm10 10l.94 2.06.94-2.06 2.06-.94-2.06-.94-.94-2.06-.94 2.06-2.06.94z\"/><path d=\"M17.41 7.96l-1.37-1.37c-.4-.4-.92-.59-1.43-.59-.52 0-1.04.2-1.43.59L10.3 9.45l-7.72 7.72c-.78.78-.78 2.05 0 2.83L4 21.41c.39.39.9.59 1.41.59.51 0 1.02-.2 1.41-.59l7.78-7.78 2.81-2.81c.8-.78.8-2.07 0-2.86zM5.41 20L4 18.59l7.72-7.72 1.47 1.35L5.41 20z\"/>\n",
              "  </svg>\n",
              "      </button>\n",
              "      \n",
              "  <style>\n",
              "    .colab-df-container {\n",
              "      display:flex;\n",
              "      flex-wrap:wrap;\n",
              "      gap: 12px;\n",
              "    }\n",
              "\n",
              "    .colab-df-convert {\n",
              "      background-color: #E8F0FE;\n",
              "      border: none;\n",
              "      border-radius: 50%;\n",
              "      cursor: pointer;\n",
              "      display: none;\n",
              "      fill: #1967D2;\n",
              "      height: 32px;\n",
              "      padding: 0 0 0 0;\n",
              "      width: 32px;\n",
              "    }\n",
              "\n",
              "    .colab-df-convert:hover {\n",
              "      background-color: #E2EBFA;\n",
              "      box-shadow: 0px 1px 2px rgba(60, 64, 67, 0.3), 0px 1px 3px 1px rgba(60, 64, 67, 0.15);\n",
              "      fill: #174EA6;\n",
              "    }\n",
              "\n",
              "    [theme=dark] .colab-df-convert {\n",
              "      background-color: #3B4455;\n",
              "      fill: #D2E3FC;\n",
              "    }\n",
              "\n",
              "    [theme=dark] .colab-df-convert:hover {\n",
              "      background-color: #434B5C;\n",
              "      box-shadow: 0px 1px 3px 1px rgba(0, 0, 0, 0.15);\n",
              "      filter: drop-shadow(0px 1px 2px rgba(0, 0, 0, 0.3));\n",
              "      fill: #FFFFFF;\n",
              "    }\n",
              "  </style>\n",
              "\n",
              "      <script>\n",
              "        const buttonEl =\n",
              "          document.querySelector('#df-5654b809-0079-4ee4-ade9-760b29edf3fb button.colab-df-convert');\n",
              "        buttonEl.style.display =\n",
              "          google.colab.kernel.accessAllowed ? 'block' : 'none';\n",
              "\n",
              "        async function convertToInteractive(key) {\n",
              "          const element = document.querySelector('#df-5654b809-0079-4ee4-ade9-760b29edf3fb');\n",
              "          const dataTable =\n",
              "            await google.colab.kernel.invokeFunction('convertToInteractive',\n",
              "                                                     [key], {});\n",
              "          if (!dataTable) return;\n",
              "\n",
              "          const docLinkHtml = 'Like what you see? Visit the ' +\n",
              "            '<a target=\"_blank\" href=https://colab.research.google.com/notebooks/data_table.ipynb>data table notebook</a>'\n",
              "            + ' to learn more about interactive tables.';\n",
              "          element.innerHTML = '';\n",
              "          dataTable['output_type'] = 'display_data';\n",
              "          await google.colab.output.renderOutput(dataTable, element);\n",
              "          const docLink = document.createElement('div');\n",
              "          docLink.innerHTML = docLinkHtml;\n",
              "          element.appendChild(docLink);\n",
              "        }\n",
              "      </script>\n",
              "    </div>\n",
              "  </div>\n",
              "  "
            ]
          },
          "metadata": {},
          "execution_count": 16
        }
      ]
    },
    {
      "cell_type": "code",
      "source": [
        "# importing the required libraries to plot the graph\n",
        "import matplotlib.pyplot as plt\n",
        "import seaborn as sns"
      ],
      "metadata": {
        "id": "1rft9FAVjjh-"
      },
      "execution_count": 17,
      "outputs": []
    },
    {
      "cell_type": "code",
      "source": [
        "fig = plt.figure(figsize=(10,15)) # giving the dimenctions to the figure \n",
        "# ploting the bar graph to represent the above result in diagramatic format\n",
        "result = sns.barplot(x='sum(total_medal)',y = 'sports',data =medals_by_each_sport_pandas)"
      ],
      "metadata": {
        "colab": {
          "base_uri": "https://localhost:8080/",
          "height": 878
        },
        "id": "HqO2dECtdTgK",
        "outputId": "45d21fb8-e8b0-48ab-926d-17688cfbcd15"
      },
      "execution_count": 18,
      "outputs": [
        {
          "output_type": "display_data",
          "data": {
            "text/plain": [
              "<Figure size 720x1080 with 1 Axes>"
            ],
            "image/png": "[encoded data removed]"
          },
          "metadata": {
            "needs_background": "light"
          }
        }
      ]
    },
    {
      "cell_type": "markdown",
      "source": [
        "## Explanation :\n",
        "### By analysing the above figure we can say that most number of medals were won in swiming and Atheltics is in second place there are 2-3 sports on which the participents won least number of medals."
      ],
      "metadata": {
        "id": "zBaYDzT1ZjSW"
      }
    },
    {
      "cell_type": "markdown",
      "source": [
        "## 4) Sort the result based on the total number of medals."
      ],
      "metadata": {
        "id": "Njr8VBVnLhST"
      }
    },
    {
      "cell_type": "code",
      "source": [
        "# using orderby to sort the dataset based on total_medal column\n",
        "sorted = olympix_data_spark.orderBy(f.asc(\"total_medal\"))\n",
        "sorted.show(5) # calling Tha action \n"
      ],
      "metadata": {
        "colab": {
          "base_uri": "https://localhost:8080/"
        },
        "id": "5kNSWM7lMQ0Q",
        "outputId": "2169f86d-2a1b-4488-e534-8c0f2306bcfb"
      },
      "execution_count": null,
      "outputs": [
        {
          "output_type": "stream",
          "name": "stdout",
          "text": [
            "+-----------------+---+--------------------+----+----------+--------------------+----------+------------+-----------+-----------+\n",
            "|             name|age|             country|year|Date_Given|              sports|gold_medal|silver_medal|brone_medal|total_medal|\n",
            "+-----------------+---+--------------------+----+----------+--------------------+----------+------------+-----------+-----------+\n",
            "|       Vasa Mijic| 27|Serbia and Monten...|2000|10-01-2000|          Volleyball|         1|           0|          0|          1|\n",
            "|    Crystl Bustos| 23|       United States|2000|10-01-2000|            Softball|         1|           0|          0|          1|\n",
            "|Huang Chih-Hsiung| 23|      Chinese Taipei|2000|10-01-2000|           Taekwondo|         0|           0|          1|          1|\n",
            "|           Luo Xi| 24|               China|2012|08-12-2012|Synchronized Swim...|         0|           1|          0|          1|\n",
            "|  Yevgeny Lagunov| 22|              Russia|2008| 8/24/2008|            Swimming|         0|           1|          0|          1|\n",
            "+-----------------+---+--------------------+----+----------+--------------------+----------+------------+-----------+-----------+\n",
            "only showing top 5 rows\n",
            "\n"
          ]
        }
      ]
    },
    {
      "cell_type": "code",
      "source": [
        "# checking whether the data was sorted as per our requirement or not \n",
        "sorted.select('total_medal').show(5)"
      ],
      "metadata": {
        "colab": {
          "base_uri": "https://localhost:8080/"
        },
        "id": "CP6N47yoNKhc",
        "outputId": "61c9d3d9-17b7-459f-a4fe-31b1e2bd2fcb"
      },
      "execution_count": null,
      "outputs": [
        {
          "output_type": "stream",
          "name": "stdout",
          "text": [
            "+-----------+\n",
            "|total_medal|\n",
            "+-----------+\n",
            "|          1|\n",
            "|          1|\n",
            "|          1|\n",
            "|          1|\n",
            "|          1|\n",
            "+-----------+\n",
            "only showing top 5 rows\n",
            "\n"
          ]
        }
      ]
    },
    {
      "cell_type": "markdown",
      "source": [
        "## Explanation :\n",
        "### Here we can see that the required column was successfully sorted as per our requirement."
      ],
      "metadata": {
        "id": "9ALgOoVxaL9A"
      }
    },
    {
      "cell_type": "markdown",
      "source": [
        "## 5) Find the total number of medals won by each country in swimming."
      ],
      "metadata": {
        "id": "9fyaERABPv3H"
      }
    },
    {
      "cell_type": "code",
      "source": [
        "# filtering the record based on sports swimming \n",
        "swimming_data = olympix_data_spark.filter((olympix_data_spark.sports == 'Swimming'))\n",
        "# finding no of medals by each country  groupping by country and counting the filtered data set based on sports = swimming  \n",
        "swimming_data.groupBy(\"country\").count().show()"
      ],
      "metadata": {
        "colab": {
          "base_uri": "https://localhost:8080/"
        },
        "id": "23HdByHLPxv_",
        "outputId": "d55cbd94-f74f-4175-d6e6-ac17f43e40e7"
      },
      "execution_count": null,
      "outputs": [
        {
          "output_type": "stream",
          "name": "stdout",
          "text": [
            "+-------------+-----+\n",
            "|      country|count|\n",
            "+-------------+-----+\n",
            "|       Russia|   19|\n",
            "|       Sweden|    7|\n",
            "|      Germany|   27|\n",
            "|       France|   26|\n",
            "|     Slovakia|    1|\n",
            "|    Argentina|    1|\n",
            "|Great Britain|    9|\n",
            "|        China|   29|\n",
            "|United States|  145|\n",
            "|      Belarus|    1|\n",
            "|      Croatia|    1|\n",
            "|        Italy|   13|\n",
            "|    Lithuania|    1|\n",
            "|       Norway|    2|\n",
            "|        Spain|    2|\n",
            "|      Denmark|    1|\n",
            "|      Ukraine|    4|\n",
            "|  South Korea|    2|\n",
            "|     Zimbabwe|    2|\n",
            "|      Tunisia|    2|\n",
            "+-------------+-----+\n",
            "only showing top 20 rows\n",
            "\n"
          ]
        }
      ]
    },
    {
      "cell_type": "markdown",
      "source": [
        "## Explanation :\n",
        "### By using the above result set we can calculate the which country won the most number of medals in swimming and which country won the least number of medals in swimming."
      ],
      "metadata": {
        "id": "88-dbtIEakAY"
      }
    },
    {
      "cell_type": "markdown",
      "source": [
        "## 6) Find the total number of medals won by each country in Skeleton."
      ],
      "metadata": {
        "id": "GILTyurfR4mH"
      }
    },
    {
      "cell_type": "code",
      "source": [
        "# filtering the record based on sports Skeleton \n",
        "Skeleton_data = olympix_data_spark.filter((olympix_data_spark.sports == 'Skeleton'))\n",
        "# finding no of medals by each country  groupping by country and counting the filtered data set based on sports = Skeleton  \n",
        "Skeleton_data.groupBy(\"country\").count().show()"
      ],
      "metadata": {
        "colab": {
          "base_uri": "https://localhost:8080/"
        },
        "id": "YPN_P6Q2R7eZ",
        "outputId": "921028f7-274d-4fac-cbdc-f1f489852c33"
      },
      "execution_count": 19,
      "outputs": [
        {
          "output_type": "stream",
          "name": "stdout",
          "text": [
            "+-------------+-----+\n",
            "|      country|count|\n",
            "+-------------+-----+\n",
            "|       Russia|    1|\n",
            "|      Germany|    2|\n",
            "|Great Britain|    3|\n",
            "|United States|    3|\n",
            "|  Switzerland|    3|\n",
            "|       Latvia|    1|\n",
            "|       Canada|    4|\n",
            "|      Austria|    1|\n",
            "+-------------+-----+\n",
            "\n"
          ]
        }
      ]
    },
    {
      "cell_type": "markdown",
      "source": [
        "## Explanation :\n",
        "### By the above result set we can clearly say that the country canada won the most number of medals on the sports skeleton and the countries Russia,Austria,Latvia were won only one medal is skeleton and stood at last position in particular sport."
      ],
      "metadata": {
        "id": "lOxodlcXa5mX"
      }
    },
    {
      "cell_type": "markdown",
      "source": [
        "## 7) Find the number of medals that the US won yearly. "
      ],
      "metadata": {
        "id": "DIV6hSGTSjPT"
      }
    },
    {
      "cell_type": "code",
      "source": [
        "# filtering the records based on country = United states.\n",
        "medals_won_by_us = olympix_data_spark.filter((olympix_data_spark.country == 'United States'))\n",
        "# counting the total number of medals won by us year wise from filtered data set.\n",
        "medals_won_by_us_year_wise = medals_won_by_us.groupBy(\"year\").sum(\"total_medal\")\n",
        "medals_won_by_us_year_wise.show() # calling the Action."
      ],
      "metadata": {
        "id": "CxuwBAZxV36q",
        "colab": {
          "base_uri": "https://localhost:8080/"
        },
        "outputId": "5c7ff607-663c-4f73-ddd6-b538378ca0ef"
      },
      "execution_count": 21,
      "outputs": [
        {
          "output_type": "stream",
          "name": "stdout",
          "text": [
            "+----+----------------+\n",
            "|year|sum(total_medal)|\n",
            "+----+----------------+\n",
            "|2006|              52|\n",
            "|2004|             265|\n",
            "|2012|             254|\n",
            "|2000|             243|\n",
            "|2010|              97|\n",
            "|2008|             317|\n",
            "|2002|              84|\n",
            "+----+----------------+\n",
            "\n"
          ]
        }
      ]
    },
    {
      "cell_type": "markdown",
      "source": [
        "## Explanation :\n",
        "### By the above result set we can clearly say that the country united states won most number of medals in 2008 by winning 317 medals, where as it won least number of medals in 2006 by winning 52 medals."
      ],
      "metadata": {
        "id": "2J2J4DOfb6dl"
      }
    },
    {
      "cell_type": "markdown",
      "source": [
        "## 8) Find the total number of medals won by each country.\n"
      ],
      "metadata": {
        "id": "RixL7KM-ZWgT"
      }
    },
    {
      "cell_type": "code",
      "source": [
        "# calculating the total number of medals won by each country by using group by and sum functions\n",
        "medals_by_each_country = olympix_data_spark.groupBy(\"country\").sum(\"total_medal\")\n",
        "medals_by_each_country.show() # calling the Action."
      ],
      "metadata": {
        "colab": {
          "base_uri": "https://localhost:8080/"
        },
        "id": "KwDKNwFSZedi",
        "outputId": "2ec7decf-d564-4e77-cbd6-128d0fe288fe"
      },
      "execution_count": 20,
      "outputs": [
        {
          "output_type": "stream",
          "name": "stdout",
          "text": [
            "+--------------+----------------+\n",
            "|       country|sum(total_medal)|\n",
            "+--------------+----------------+\n",
            "|        Russia|             768|\n",
            "|      Paraguay|              17|\n",
            "|Chinese Taipei|              20|\n",
            "|        Sweden|             181|\n",
            "|       Eritrea|               1|\n",
            "|      Malaysia|               3|\n",
            "|     Singapore|               7|\n",
            "|        Turkey|              28|\n",
            "|       Germany|             629|\n",
            "|   Afghanistan|               2|\n",
            "|         Sudan|               1|\n",
            "|        France|             318|\n",
            "|        Greece|              59|\n",
            "|     Sri Lanka|               1|\n",
            "|          Togo|               1|\n",
            "|       Algeria|               8|\n",
            "|      Slovakia|              35|\n",
            "|     Argentina|             139|\n",
            "|       Belgium|              18|\n",
            "| Great Britain|             322|\n",
            "+--------------+----------------+\n",
            "only showing top 20 rows\n",
            "\n"
          ]
        }
      ]
    },
    {
      "cell_type": "markdown",
      "source": [
        "## Explanation :\n",
        "### By using the above result set we can easily find which country won most number of medals by using max() function and which country won the lest number of medals by using the min() function."
      ],
      "metadata": {
        "id": "05mN_ZN4ctTO"
      }
    },
    {
      "cell_type": "markdown",
      "source": [
        "## 9) Who was the oldest athlete in the olympics? \n"
      ],
      "metadata": {
        "id": "R5F0X9MRaoxL"
      }
    },
    {
      "cell_type": "code",
      "source": [
        "olympix_data_spark.createOrReplaceTempView(\"olympix\") # creating a view to write an SQL\n",
        "# writing an SQL query to calculate the oldest athlet in the olympix\n",
        "oldest_athlet = spark.sql(\"select name,age from olympix where age = (select max(age) from olympix)\") \n",
        "oldest_athlet.show() # calling the Action"
      ],
      "metadata": {
        "colab": {
          "base_uri": "https://localhost:8080/"
        },
        "id": "28PI4uPbcKwp",
        "outputId": "f6849fe6-6115-4de1-bd53-bcace12dbcbb"
      },
      "execution_count": 22,
      "outputs": [
        {
          "output_type": "stream",
          "name": "stdout",
          "text": [
            "+----------+---+\n",
            "|      name|age|\n",
            "+----------+---+\n",
            "|Ian Millar| 61|\n",
            "+----------+---+\n",
            "\n"
          ]
        }
      ]
    },
    {
      "cell_type": "markdown",
      "source": [
        "## Eaplanation :\n",
        "### Here we can see that the athlet Ian Millar was the oldest athelt in the olympix with the age of 61 years."
      ],
      "metadata": {
        "id": "3vA9mzscdTau"
      }
    },
    {
      "cell_type": "markdown",
      "source": [
        "## 10) Which country was he/she from?"
      ],
      "metadata": {
        "id": "fDn7SdvgRiBm"
      }
    },
    {
      "cell_type": "code",
      "source": [
        "olympix_data_spark.createOrReplaceTempView(\"olympix\") # creating a view to write an SQL\n",
        "# writing an SQL query to calculate the oldest athlet in the olympix and which country he residing.\n",
        "oldest_athlet = spark.sql(\"select name,country,age from olympix where age = (select max(age) from olympix)\") \n",
        "oldest_athlet.show() # calling the Action"
      ],
      "metadata": {
        "colab": {
          "base_uri": "https://localhost:8080/"
        },
        "id": "BQnDpSMaRo-c",
        "outputId": "ec39554e-f277-4010-8813-a14260157251"
      },
      "execution_count": 23,
      "outputs": [
        {
          "output_type": "stream",
          "name": "stdout",
          "text": [
            "+----------+-------+---+\n",
            "|      name|country|age|\n",
            "+----------+-------+---+\n",
            "|Ian Millar| Canada| 61|\n",
            "+----------+-------+---+\n",
            "\n"
          ]
        }
      ]
    },
    {
      "cell_type": "markdown",
      "source": [
        "## Eaplanation :\n",
        "### Here we can see that the athlet Ian Millar was the oldest athelt in the olympix with the age of 61 years and he belongs to the country Canada."
      ],
      "metadata": {
        "id": "PZFx35Qid79Y"
      }
    }
  ]
}